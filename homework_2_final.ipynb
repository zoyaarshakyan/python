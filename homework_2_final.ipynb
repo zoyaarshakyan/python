{
 "cells": [
  {
   "cell_type": "code",
   "execution_count": 148,
   "metadata": {
    "collapsed": false
   },
   "outputs": [],
   "source": [
    "import numpy as np"
   ]
  },
  {
   "cell_type": "code",
   "execution_count": 151,
   "metadata": {
    "collapsed": false
   },
   "outputs": [
    {
     "name": "stdout",
     "output_type": "stream",
     "text": [
      "Input some numbers seprated by a comma:7.5, 5, 6, 8.5, 9.5, 10.15\n",
      "7.775\n"
     ]
    }
   ],
   "source": [
    "from __future__ import division\n",
    "list= input (\"Input some numbers seprated by a comma:\")\n",
    "def avg(list):\n",
    "    return sum(list) / len(list)\n",
    "print avg(list)\n",
    "\n",
    "\n"
   ]
  },
  {
   "cell_type": "code",
   "execution_count": 12,
   "metadata": {
    "collapsed": false
   },
   "outputs": [],
   "source": [
    "from collections import Counter\n",
    "    "
   ]
  },
  {
   "cell_type": "code",
   "execution_count": 2,
   "metadata": {
    "collapsed": false
   },
   "outputs": [
    {
     "name": "stdout",
     "output_type": "stream",
     "text": [
      "Input some numbers seprated by a comma: 1,3,5,7,9\n",
      "Inpute the number of occurrences to calculate the average3\n",
      "7\n"
     ]
    }
   ],
   "source": [
    "list2= input (\"Input some numbers seprated by a comma: \")\n",
    "number_of_occurrances = input (\"Inpute the number of occurrences to calculate the average\")\n",
    "def avg(list2):\n",
    "    return sum(list2[len(list2)-number_of_occurrances:])/number_of_occurrances\n",
    "print avg(list2)"
   ]
  },
  {
   "cell_type": "markdown",
   "metadata": {
    "collapsed": false
   },
   "source": [
    "Return random integer in range [a, b], including both end points"
   ]
  },
  {
   "cell_type": "code",
   "execution_count": 16,
   "metadata": {
    "collapsed": false
   },
   "outputs": [
    {
     "name": "stdout",
     "output_type": "stream",
     "text": [
      "33\n"
     ]
    }
   ],
   "source": [
    "import random\n",
    "x=1\n",
    "y=100\n",
    "number=random.randint(x,y)\n",
    "print number"
   ]
  },
  {
   "cell_type": "code",
   "execution_count": 17,
   "metadata": {
    "collapsed": false
   },
   "outputs": [
    {
     "name": "stdout",
     "output_type": "stream",
     "text": [
      "Win\n"
     ]
    }
   ],
   "source": [
    "number=random.randint(x,y)\n",
    "def lottery(number):\n",
    "    if number > 50 and number < 100:\n",
    "        return \"Win\"\n",
    "    elif number >= 1 and number <=50:\n",
    "        return \"Loss\"\n",
    "    elif number ==y:\n",
    "        return \"Drow\"\n",
    "print lottery(number)"
   ]
  },
  {
   "cell_type": "code",
   "execution_count": 76,
   "metadata": {
    "collapsed": false
   },
   "outputs": [],
   "source": [
    "import pandas_datareader.data as web"
   ]
  },
  {
   "cell_type": "code",
   "execution_count": 2,
   "metadata": {
    "collapsed": true
   },
   "outputs": [],
   "source": [
    "stocks=[\"IBM\", \"AAPL\", \"MSFT\"]"
   ]
  },
  {
   "cell_type": "code",
   "execution_count": 69,
   "metadata": {
    "collapsed": false
   },
   "outputs": [
    {
     "name": "stdout",
     "output_type": "stream",
     "text": [
      "              Open    High     Low   Close   Volume\n",
      "Date                                               \n",
      "2010-01-04  131.18  132.97  130.85  132.45  6155846\n",
      "2010-01-05  131.68  131.85  130.10  130.85  6842471\n",
      "2010-01-06  130.68  131.49  129.81  130.00  5605290\n",
      "2010-01-07  129.87  130.25  128.91  129.55  5840569\n",
      "2010-01-08  129.07  130.92  129.05  130.85  4197105\n",
      "2010-01-11  131.06  131.06  128.67  129.48  5731177\n",
      "2010-01-12  129.03  131.33  129.00  130.51  8083354\n",
      "             Open   High    Low  Close     Volume\n",
      "Date                                             \n",
      "2010-01-04  30.49  30.64  30.34  30.57  123432050\n",
      "2010-01-05  30.66  30.80  30.46  30.63  150476004\n",
      "2010-01-06  30.63  30.75  30.11  30.14  138039594\n",
      "2010-01-07  30.25  30.29  29.86  30.08  119282324\n",
      "2010-01-08  30.04  30.29  29.87  30.28  111969081\n",
      "2010-01-11  30.40  30.43  29.78  30.02  115557365\n",
      "2010-01-12  29.88  29.97  29.49  29.67  148614774\n",
      "             Open   High    Low  Close    Volume\n",
      "Date                                            \n",
      "2010-01-04  30.62  31.10  30.59  30.95  38414185\n",
      "2010-01-05  30.85  31.10  30.64  30.96  49758862\n",
      "2010-01-06  30.88  31.08  30.52  30.77  58182332\n",
      "2010-01-07  30.63  30.70  30.19  30.45  50564285\n",
      "2010-01-08  30.28  30.88  30.24  30.66  51201289\n",
      "2010-01-11  30.71  30.76  30.12  30.27  68754648\n",
      "2010-01-12  30.15  30.40  29.91  30.07  65913228\n"
     ]
    }
   ],
   "source": [
    "for stock in stocks:\n",
    "    if stock==\"IBM\":\n",
    "        stock1 = web.DataReader(\"IBM\",\"google\")\n",
    "        print stock1.head(7)\n",
    "    elif stock==\"AAPL\":\n",
    "        stock2 = web.DataReader(\"AAPL\",\"google\")\n",
    "        print stock2.head(7)\n",
    "    else:\n",
    "        stock3 =web.DataReader(\"MSFT\",\"google\")\n",
    "        print stock3.head(7)"
   ]
  },
  {
   "cell_type": "code",
   "execution_count": 77,
   "metadata": {
    "collapsed": false
   },
   "outputs": [],
   "source": [
    " import matplotlib.pyplot as plt"
   ]
  },
  {
   "cell_type": "code",
   "execution_count": 78,
   "metadata": {
    "collapsed": false
   },
   "outputs": [
    {
     "data": {
      "image/png": "[encoded data removed]",
      "text/plain": [
       "<matplotlib.figure.Figure at 0xc02c668>"
      ]
     },
     "metadata": {},
     "output_type": "display_data"
    },
    {
     "data": {
      "image/png": "[encoded data removed]",
      "text/plain": [
       "<matplotlib.figure.Figure at 0xbf96f60>"
      ]
     },
     "metadata": {},
     "output_type": "display_data"
    },
    {
     "data": {
      "image/png": "[encoded data removed]",
      "text/plain": [
       "<matplotlib.figure.Figure at 0xc16a588>"
      ]
     },
     "metadata": {},
     "output_type": "display_data"
    }
   ],
   "source": [
    "for stock in stocks:\n",
    "    if stock==\"IBM\":\n",
    "        plt.plot(data1.head(7))\n",
    "        plt.show()\n",
    "    elif stock==\"AAPL\":\n",
    "        plt.plot(data2.head(7))\n",
    "        plt.show()\n",
    "    else:\n",
    "        plt.plot(data3.head(7))\n",
    "        plt.show()       "
   ]
  },
  {
   "cell_type": "code",
   "execution_count": null,
   "metadata": {
    "collapsed": true
   },
   "outputs": [],
   "source": []
  }
 ],
 "metadata": {
  "kernelspec": {
   "display_name": "Python 2",
   "language": "python",
   "name": "python2"
  },
  "language_info": {
   "codemirror_mode": {
    "name": "ipython",
    "version": 2
   },
   "file_extension": ".py",
   "mimetype": "text/x-python",
   "name": "python",
   "nbconvert_exporter": "python",
   "pygments_lexer": "ipython2",
   "version": "2.7.13"
  }
 },
 "nbformat": 4,
 "nbformat_minor": 2
}
